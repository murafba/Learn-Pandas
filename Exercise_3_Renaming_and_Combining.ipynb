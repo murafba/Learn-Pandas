{
  "metadata": {
    "kernelspec": {
      "display_name": "Python 3",
      "language": "python",
      "name": "python3"
    },
    "language_info": {
      "name": "python",
      "version": "3.10.13",
      "mimetype": "text/x-python",
      "codemirror_mode": {
        "name": "ipython",
        "version": 3
      },
      "pygments_lexer": "ipython3",
      "nbconvert_exporter": "python",
      "file_extension": ".py"
    },
    "kaggle": {
      "accelerator": "none",
      "dataSources": [
        {
          "sourceId": 1252,
          "sourceType": "datasetVersion",
          "datasetId": 655
        },
        {
          "sourceId": 3919,
          "sourceType": "datasetVersion",
          "datasetId": 2321
        },
        {
          "sourceId": 4877,
          "sourceType": "datasetVersion",
          "datasetId": 2894
        },
        {
          "sourceId": 5624,
          "sourceType": "datasetVersion",
          "datasetId": 3491
        },
        {
          "sourceId": 8172,
          "sourceType": "datasetVersion",
          "datasetId": 1442
        },
        {
          "sourceId": 13206,
          "sourceType": "datasetVersion",
          "datasetId": 9366
        },
        {
          "sourceId": 403916,
          "sourceType": "datasetVersion",
          "datasetId": 179555
        },
        {
          "sourceId": 466349,
          "sourceType": "datasetVersion",
          "datasetId": 4549
        },
        {
          "sourceId": 1151655,
          "sourceType": "datasetVersion",
          "datasetId": 2478
        },
        {
          "sourceId": 5438389,
          "sourceType": "datasetVersion",
          "datasetId": 10128
        }
      ],
      "isInternetEnabled": false,
      "language": "python",
      "sourceType": "notebook",
      "isGpuEnabled": false
    },
    "colab": {
      "name": "Exercise_3_Renaming_and_Combining",
      "provenance": [],
      "include_colab_link": true
    }
  },
  "nbformat_minor": 0,
  "nbformat": 4,
  "cells": [
    {
      "cell_type": "markdown",
      "metadata": {
        "id": "view-in-github",
        "colab_type": "text"
      },
      "source": [
        "<a href=\"https://colab.research.google.com/github/murafba/Learn-Pandas/blob/main/Exercise_3_Renaming_and_Combining.ipynb\" target=\"_parent\"><img src=\"https://colab.research.google.com/assets/colab-badge.svg\" alt=\"Open In Colab\"/></a>"
      ]
    },
    {
      "source": [
        "\n",
        "# IMPORTANT: RUN THIS CELL IN ORDER TO IMPORT YOUR KAGGLE DATA SOURCES\n",
        "# TO THE CORRECT LOCATION (/kaggle/input) IN YOUR NOTEBOOK,\n",
        "# THEN FEEL FREE TO DELETE THIS CELL.\n",
        "# NOTE: THIS NOTEBOOK ENVIRONMENT DIFFERS FROM KAGGLE'S PYTHON\n",
        "# ENVIRONMENT SO THERE MAY BE MISSING LIBRARIES USED BY YOUR\n",
        "# NOTEBOOK.\n",
        "\n",
        "import os\n",
        "import sys\n",
        "from tempfile import NamedTemporaryFile\n",
        "from urllib.request import urlopen\n",
        "from urllib.parse import unquote, urlparse\n",
        "from urllib.error import HTTPError\n",
        "from zipfile import ZipFile\n",
        "import tarfile\n",
        "import shutil\n",
        "\n",
        "CHUNK_SIZE = 40960\n",
        "DATA_SOURCE_MAPPING = 'pitchfork-data:https%3A%2F%2Fstorage.googleapis.com%2Fkaggle-data-sets%2F655%2F1252%2Fbundle%2Farchive.zip%3FX-Goog-Algorithm%3DGOOG4-RSA-SHA256%26X-Goog-Credential%3Dgcp-kaggle-com%2540kaggle-161607.iam.gserviceaccount.com%252F20240227%252Fauto%252Fstorage%252Fgoog4_request%26X-Goog-Date%3D20240227T153650Z%26X-Goog-Expires%3D259200%26X-Goog-SignedHeaders%3Dhost%26X-Goog-Signature%3D06f4f46b266ecbbcbf466f00bedb49dc8cf7bbac079187c564347cafb91cee23e45e4a01d78d87810189211c580595d14f8950739427080889d552ffd34188512602bc02624e0a8e6c3cb0c57b2fa3297372acf37f727339fda2ad31a9f53aba87b83026df34bea12e824eebf5ca84cdaecfcef9e0eb5b094ec40a9a402bccec2d6764b5277baaf3a81edfca88c10b71c183521581c80f73a12c550628de1db24336873eb342ee026909b1b1557ad362df2718f073d5092e79795e8c4e0c66d4c1b6ea3b2764230d75f0a8ccf735afa359399db07d02c4c045385830d57abb8b48637be7002c7af80961fefc21bd35c95c2a45a272ff9390da0f5b5d17cdd383,chess:https%3A%2F%2Fstorage.googleapis.com%2Fkaggle-data-sets%2F2321%2F3919%2Fbundle%2Farchive.zip%3FX-Goog-Algorithm%3DGOOG4-RSA-SHA256%26X-Goog-Credential%3Dgcp-kaggle-com%2540kaggle-161607.iam.gserviceaccount.com%252F20240227%252Fauto%252Fstorage%252Fgoog4_request%26X-Goog-Date%3D20240227T153650Z%26X-Goog-Expires%3D259200%26X-Goog-SignedHeaders%3Dhost%26X-Goog-Signature%3D750f9936958843bb0e1f4cde78f20fa265c590cdffe20456db644ea14a2f09f3757eef420214975ee319474d0c2b503945a281282d86aabb4787b4f5d790a716e2f548f90293dd1c0bb54b38c2443deb9392549f0081325dae361001d519720409b5652bd5023c6916564cb72cd77ce6ca277f2e5a9015d213ac3d5d8b7c5421e962d9823f7458f0368a9f555f81ba92025ae906aa54204a94b82c94a2e4178b7cb27f1768964315741bbc78d511930a507e288a01c8aa459ae607d80c4075bbb8d0d7593eb283f1159cf8f5d08cd883ff30fe76bd49b045e6adb6ca73edce88435ff86ceb0eeeba7fafe9ba390f6e179f22f01d8f44fa93167afaa5cd0af58d,kepler-exoplanet-search-results:https%3A%2F%2Fstorage.googleapis.com%2Fkaggle-data-sets%2F2894%2F4877%2Fbundle%2Farchive.zip%3FX-Goog-Algorithm%3DGOOG4-RSA-SHA256%26X-Goog-Credential%3Dgcp-kaggle-com%2540kaggle-161607.iam.gserviceaccount.com%252F20240227%252Fauto%252Fstorage%252Fgoog4_request%26X-Goog-Date%3D20240227T153650Z%26X-Goog-Expires%3D259200%26X-Goog-SignedHeaders%3Dhost%26X-Goog-Signature%3D237f366155f129c30442f12635ec5221c4f64a7b3da9dc4878c8a901e1ed107ba29480e29140da82308ac5cda084e8bc5d9cb53e3d53487396f1badf0f4d3171eba7a8ec40027bd3b51203dada8d66305416191e23aecb212c926baa185ac7788a369ffe8a54dcf4e96163adaad9f616a29e74564385b140c4059e38944b5c1ae792fd38be90017798da9501b76daceaa2feb7b8fde48fc696f2c1c478cebb50157fe323dc87e543467218eab300a0259fd0caf1d3ec107740c37d66f610802c5725bd0b5539452b1dff6e452b8325bd69c5f06a6d26e47045f16a5a991df8144b4e3caf34a96fb8b3ad4e8f03cc3a4555ef4c16b7312a4f9bdb2533b47e3ca1,things-on-reddit:https%3A%2F%2Fstorage.googleapis.com%2Fkaggle-data-sets%2F3491%2F5624%2Fbundle%2Farchive.zip%3FX-Goog-Algorithm%3DGOOG4-RSA-SHA256%26X-Goog-Credential%3Dgcp-kaggle-com%2540kaggle-161607.iam.gserviceaccount.com%252F20240227%252Fauto%252Fstorage%252Fgoog4_request%26X-Goog-Date%3D20240227T153650Z%26X-Goog-Expires%3D259200%26X-Goog-SignedHeaders%3Dhost%26X-Goog-Signature%3D65b553b07709544a6e7b4d50c7d0c0344a05590e4600f4e75c88e0b3a2aa2fe54a7dad9469a4773ac53db1967b558960a8b8528ad3d0ad8ab71ecc2699c3d760b46f63c56ea345441f4aabe9cee715852e4e301cf154f78b948041b45c4b7d694ab1e5a2ccc263922a2a8de34e2d6896894442e89072891700ade8b0f66723561a5b4c07d59c94455eff76534263e043a657fecf13bcbe5264327843ccd719c6a4c876dd508a067ed24fb69309e33cdb8e41ab3aad7b790e393b9eeef28b22c44cbb4c4fb5dc239313a66a732d8314c4c535af8bb10f51a3ca695f00f9734a55d65335dd144d9baf0679479c69575efad4fa9fe1ad800fbdc5201cdbf316a746,wine-reviews:https%3A%2F%2Fstorage.googleapis.com%2Fkaggle-data-sets%2F1442%2F8172%2Fbundle%2Farchive.zip%3FX-Goog-Algorithm%3DGOOG4-RSA-SHA256%26X-Goog-Credential%3Dgcp-kaggle-com%2540kaggle-161607.iam.gserviceaccount.com%252F20240227%252Fauto%252Fstorage%252Fgoog4_request%26X-Goog-Date%3D20240227T153650Z%26X-Goog-Expires%3D259200%26X-Goog-SignedHeaders%3Dhost%26X-Goog-Signature%3D0549de0a4d0124d90af51bc02498210e041a2a80932dc59ec872f3a079589ee1c43d15acfb5104efad3ae2876e77ccea9b310a24ed33775ed6cf73b21f33701aa0eda2bf4d8e37930779323e40e0b76bdb1b745b08a3447500ae7dc68fe924949cdf47a8e6ed8ab2bec7851713e103cb3ec05a4e4d847c1c1e50daa6505882d6d2e7014aa07a0f7a608dff51f106be85ee0bf1c630ea4fa967781461748cdab9c65e32a7dc40670fca9b7e3ec71100794fe1786e93ea8bce1afc3768e7111b2070b781917b2dad3e23a3d80cea97f7ce64a4bdc4d8eea9866684f5a4db35e6b76fef5d96bcc16ec3f5fac9f1d1313d51567ab4a3589d4b48871d41c25d43e856,ramen-ratings:https%3A%2F%2Fstorage.googleapis.com%2Fkaggle-data-sets%2F9366%2F13206%2Fbundle%2Farchive.zip%3FX-Goog-Algorithm%3DGOOG4-RSA-SHA256%26X-Goog-Credential%3Dgcp-kaggle-com%2540kaggle-161607.iam.gserviceaccount.com%252F20240227%252Fauto%252Fstorage%252Fgoog4_request%26X-Goog-Date%3D20240227T153650Z%26X-Goog-Expires%3D259200%26X-Goog-SignedHeaders%3Dhost%26X-Goog-Signature%3D860c9170fd3713965daea929481fabe9fbb7a46968537794bcff2c7b4db35cd67a62e3059c320ff86fc919c491a67c10b26ba358d4b5b9ba2c563c0edbf3317fac10b4816a0fb934dbe004f078b68ea984bc21282bb54d0bb359f7ef4276038434ea427d59ce48241a46ab77082b571c203eb66c36938a9fd35b7efd939512220ef6bc1b7237943fec9c997de6ebd49343346fb2f9e9a080a931c74dffe83feb2118d4b3ae4a28674ea5b872f7fc3a6d8b3ddfd273649694abf3a526bdfc926067eb2ac574dea68a6bfd89363a37bb9e5adcb936ddf342f6ab23099abc25d79ffa604d99841cd29ffcad39f5e4b81f388c623b10d2134491b05c3ccf98a91522,powerlifting-database:https%3A%2F%2Fstorage.googleapis.com%2Fkaggle-data-sets%2F179555%2F403916%2Fbundle%2Farchive.zip%3FX-Goog-Algorithm%3DGOOG4-RSA-SHA256%26X-Goog-Credential%3Dgcp-kaggle-com%2540kaggle-161607.iam.gserviceaccount.com%252F20240227%252Fauto%252Fstorage%252Fgoog4_request%26X-Goog-Date%3D20240227T153650Z%26X-Goog-Expires%3D259200%26X-Goog-SignedHeaders%3Dhost%26X-Goog-Signature%3D48963341ab24215e37c9628103a57656613fb7bef2d4e3ea03762cd6784fc496309b3df4f056849ffd3b48695bb454adbe0cfbf69c506ba9f95a4ceea9b4306565fa34028373ada96691713dbbb244544fa3a5da6228202053dc1abdd8fee2f651a93d528d428d0062b7f089cc81740fe6f1bcf5fce88d0f966a7e75e41989b82efebc079b996e44c8f661fb22d4b0f4d8a93f4807802583bbb160f351bbc517aa4defb70c0533b022bc555f21a4fd5e122969a2217daa6a163359c39314f7e55ddc2d74a475b52f9d18426037868beb3b702608989a4ee2dd972f7f855f2e655c85d365e7b2d2b4739a69a27e7bcfb0988734509330a501d59a0aca10181aea,youtube-new:https%3A%2F%2Fstorage.googleapis.com%2Fkaggle-data-sets%2F4549%2F466349%2Fbundle%2Farchive.zip%3FX-Goog-Algorithm%3DGOOG4-RSA-SHA256%26X-Goog-Credential%3Dgcp-kaggle-com%2540kaggle-161607.iam.gserviceaccount.com%252F20240227%252Fauto%252Fstorage%252Fgoog4_request%26X-Goog-Date%3D20240227T153650Z%26X-Goog-Expires%3D259200%26X-Goog-SignedHeaders%3Dhost%26X-Goog-Signature%3D04ea9b7288da12851562afac1f7999772e2494ef4cc2b214502c81b12334966e9da267808f3b6b810963870a5b7fb86c7ef41e89a6e132fc7b3ac46e5969cb2ca20ec8fc3a90d8b619d05a7d6b38b50068575244bc955b5eaf9ca9e3a9c3d589f0b786bdd767956c5bc3855e2d823fe58ae7251b1f4fdc341ff33dc25da8212d586da5f5d9b1521b24657434b57cabca38cc85648e3d534aa1a33a0ada32774baaa72c2857e1f3d858ad8161a74bd1296bac90d5430e011ee5fdc2da2237a66321618d5fafba44f851000c049a0bbcf581fe9f2f57f36133490b289c3b28cde2ea77057bee1dbb02880add9b34222aaeee87bc8e276b848073067a05bbe34ee7,188-million-us-wildfires:https%3A%2F%2Fstorage.googleapis.com%2Fkaggle-data-sets%2F2478%2F1151655%2Fbundle%2Farchive.zip%3FX-Goog-Algorithm%3DGOOG4-RSA-SHA256%26X-Goog-Credential%3Dgcp-kaggle-com%2540kaggle-161607.iam.gserviceaccount.com%252F20240227%252Fauto%252Fstorage%252Fgoog4_request%26X-Goog-Date%3D20240227T153650Z%26X-Goog-Expires%3D259200%26X-Goog-SignedHeaders%3Dhost%26X-Goog-Signature%3D784a7f210ee60dee0fc94b05300fde115e86bd6f799c3e7d1a32c5216d23ab8e6d8fd835898d3eaab7b0a0b1b8661990c24d1e8fce318d048549b5534c2a18e2b4af50e8d3e32ff5d19a53bb951b7eaf78b6b4b1f2ef3a40ec7f758b225e9c933272ab08315ab72aefb90ad81d9f1659e36e3604f67b7977efc337d3f7904bae18a1e76bc41187c82757fb93e5095979305c8ac6c23c204c2ff30177b3a37eeccdc72656761065fd8de5243a8485b2effec737fa45075305d688d5237bc5d2c3fb4f1050a815a7e4ff68334d1ec270de56a56130c89b9cdfaa91245262bd4026e4677e50e6ccf4c55e05c9136e3b6b7eedee535fa0934a0f0de9ce9a25a68877,publicassistance:https%3A%2F%2Fstorage.googleapis.com%2Fkaggle-data-sets%2F10128%2F5438389%2Fbundle%2Farchive.zip%3FX-Goog-Algorithm%3DGOOG4-RSA-SHA256%26X-Goog-Credential%3Dgcp-kaggle-com%2540kaggle-161607.iam.gserviceaccount.com%252F20240227%252Fauto%252Fstorage%252Fgoog4_request%26X-Goog-Date%3D20240227T153650Z%26X-Goog-Expires%3D259200%26X-Goog-SignedHeaders%3Dhost%26X-Goog-Signature%3Dadbc218d33a780fea48235c91613d697591f0af73c98785be4a0dd184100a80c5b4d9e7173e0f54223b4a8cb67e02fe7cbee12e34a5b44812d9e47bba0c9405730c4ff92e43b42ee528b677e32bce3a299f0f07b0f8a6cb52c5538a83297431b8d3c4de1503d198498d7ee93844064f6572f34720ef6e499588d266dfc861ddfdc2a46b3a185303e546b306c923edc2b0fef82ed9346eb3161349638f144f30c9b312d1a67fc9c41c90831bd1069b3736f8ca85b1afbc150f251783d5a66c5967ba8c66214023551fadd0a3ce51907fdb87f4ff3f89e782e8fc1d306d0a1fff29ab6923af0fe647032ff15b5c0c4c34a09e9dbe255c7f7cec95575c448ef13b5'\n",
        "\n",
        "KAGGLE_INPUT_PATH='/kaggle/input'\n",
        "KAGGLE_WORKING_PATH='/kaggle/working'\n",
        "KAGGLE_SYMLINK='kaggle'\n",
        "\n",
        "!umount /kaggle/input/ 2> /dev/null\n",
        "shutil.rmtree('/kaggle/input', ignore_errors=True)\n",
        "os.makedirs(KAGGLE_INPUT_PATH, 0o777, exist_ok=True)\n",
        "os.makedirs(KAGGLE_WORKING_PATH, 0o777, exist_ok=True)\n",
        "\n",
        "try:\n",
        "  os.symlink(KAGGLE_INPUT_PATH, os.path.join(\"..\", 'input'), target_is_directory=True)\n",
        "except FileExistsError:\n",
        "  pass\n",
        "try:\n",
        "  os.symlink(KAGGLE_WORKING_PATH, os.path.join(\"..\", 'working'), target_is_directory=True)\n",
        "except FileExistsError:\n",
        "  pass\n",
        "\n",
        "for data_source_mapping in DATA_SOURCE_MAPPING.split(','):\n",
        "    directory, download_url_encoded = data_source_mapping.split(':')\n",
        "    download_url = unquote(download_url_encoded)\n",
        "    filename = urlparse(download_url).path\n",
        "    destination_path = os.path.join(KAGGLE_INPUT_PATH, directory)\n",
        "    try:\n",
        "        with urlopen(download_url) as fileres, NamedTemporaryFile() as tfile:\n",
        "            total_length = fileres.headers['content-length']\n",
        "            print(f'Downloading {directory}, {total_length} bytes compressed')\n",
        "            dl = 0\n",
        "            data = fileres.read(CHUNK_SIZE)\n",
        "            while len(data) > 0:\n",
        "                dl += len(data)\n",
        "                tfile.write(data)\n",
        "                done = int(50 * dl / int(total_length))\n",
        "                sys.stdout.write(f\"\\r[{'=' * done}{' ' * (50-done)}] {dl} bytes downloaded\")\n",
        "                sys.stdout.flush()\n",
        "                data = fileres.read(CHUNK_SIZE)\n",
        "            if filename.endswith('.zip'):\n",
        "              with ZipFile(tfile) as zfile:\n",
        "                zfile.extractall(destination_path)\n",
        "            else:\n",
        "              with tarfile.open(tfile.name) as tarfile:\n",
        "                tarfile.extractall(destination_path)\n",
        "            print(f'\\nDownloaded and uncompressed: {directory}')\n",
        "    except HTTPError as e:\n",
        "        print(f'Failed to load (likely expired) {download_url} to path {destination_path}')\n",
        "        continue\n",
        "    except OSError as e:\n",
        "        print(f'Failed to load {download_url} to path {destination_path}')\n",
        "        continue\n",
        "\n",
        "print('Data source import complete.')\n"
      ],
      "metadata": {
        "id": "wiF66UenNiZ5"
      },
      "cell_type": "code",
      "outputs": [],
      "execution_count": null
    },
    {
      "cell_type": "markdown",
      "source": [
        "**This notebook is an exercise in the [Pandas](https://www.kaggle.com/learn/pandas) course.  You can reference the tutorial at [this link](https://www.kaggle.com/residentmario/renaming-and-combining).**\n",
        "\n",
        "---\n"
      ],
      "metadata": {
        "id": "yrCva9JuNiZ6"
      }
    },
    {
      "cell_type": "markdown",
      "source": [
        "# Introduction\n",
        "\n",
        "Run the following cell to load your data and some utility functions."
      ],
      "metadata": {
        "id": "N6ahhKafNiZ7"
      }
    },
    {
      "cell_type": "code",
      "source": [
        "import pandas as pd\n",
        "\n",
        "reviews = pd.read_csv(\"../input/wine-reviews/winemag-data-130k-v2.csv\", index_col=0)\n",
        "\n",
        "from learntools.core import binder; binder.bind(globals())\n",
        "from learntools.pandas.renaming_and_combining import *\n",
        "print(\"Setup complete.\")"
      ],
      "metadata": {
        "execution": {
          "iopub.status.busy": "2024-02-27T15:13:58.637716Z",
          "iopub.execute_input": "2024-02-27T15:13:58.638026Z",
          "iopub.status.idle": "2024-02-27T15:14:03.661261Z",
          "shell.execute_reply.started": "2024-02-27T15:13:58.638Z",
          "shell.execute_reply": "2024-02-27T15:14:03.659184Z"
        },
        "trusted": true,
        "id": "ZGXJJRzPNiZ7"
      },
      "execution_count": null,
      "outputs": []
    },
    {
      "cell_type": "markdown",
      "source": [
        "# Exercises\n",
        "\n",
        "View the first several lines of your data by running the cell below:"
      ],
      "metadata": {
        "id": "XyDoF2xTNiZ7"
      }
    },
    {
      "cell_type": "code",
      "source": [
        "reviews.head()"
      ],
      "metadata": {
        "execution": {
          "iopub.status.busy": "2024-02-27T15:14:06.830092Z",
          "iopub.execute_input": "2024-02-27T15:14:06.830456Z",
          "iopub.status.idle": "2024-02-27T15:14:06.851765Z",
          "shell.execute_reply.started": "2024-02-27T15:14:06.830427Z",
          "shell.execute_reply": "2024-02-27T15:14:06.850339Z"
        },
        "trusted": true,
        "id": "dqWiZCsRNiZ7"
      },
      "execution_count": null,
      "outputs": []
    },
    {
      "cell_type": "markdown",
      "source": [
        "## 1.\n",
        "`region_1` and `region_2` are pretty uninformative names for locale columns in the dataset. Create a copy of `reviews` with these columns renamed to `region` and `locale`, respectively."
      ],
      "metadata": {
        "id": "htj2bZuTNiZ8"
      }
    },
    {
      "cell_type": "code",
      "source": [
        "# Your code here\n",
        "renamed = reviews.rename(columns={'region_1': 'region', 'region_2': 'locale'})\n",
        "\n",
        "# Check your answer\n",
        "q1.check()"
      ],
      "metadata": {
        "execution": {
          "iopub.status.busy": "2024-02-27T15:16:01.422254Z",
          "iopub.execute_input": "2024-02-27T15:16:01.422692Z",
          "iopub.status.idle": "2024-02-27T15:16:01.447588Z",
          "shell.execute_reply.started": "2024-02-27T15:16:01.422662Z",
          "shell.execute_reply": "2024-02-27T15:16:01.446653Z"
        },
        "trusted": true,
        "id": "jiarSuoONiZ8"
      },
      "execution_count": null,
      "outputs": []
    },
    {
      "cell_type": "code",
      "source": [
        "#q1.hint()\n",
        "#q1.solution()"
      ],
      "metadata": {
        "id": "8Bco6Xe-NiZ8"
      },
      "execution_count": null,
      "outputs": []
    },
    {
      "cell_type": "markdown",
      "source": [
        "## 2.\n",
        "Set the index name in the dataset to `wines`."
      ],
      "metadata": {
        "id": "UqSSCpKPNiZ8"
      }
    },
    {
      "cell_type": "code",
      "source": [
        "reindexed = reviews.rename_axis(\"wines\", axis='columns')\n",
        "\n",
        "# Check your answer\n",
        "q2.check()\n",
        "\n",
        "reindexed"
      ],
      "metadata": {
        "execution": {
          "iopub.status.busy": "2024-02-27T15:17:46.811406Z",
          "iopub.execute_input": "2024-02-27T15:17:46.811761Z",
          "iopub.status.idle": "2024-02-27T15:17:46.846303Z",
          "shell.execute_reply.started": "2024-02-27T15:17:46.811727Z",
          "shell.execute_reply": "2024-02-27T15:17:46.845491Z"
        },
        "trusted": true,
        "id": "eeariKQiNiZ8"
      },
      "execution_count": null,
      "outputs": []
    },
    {
      "cell_type": "code",
      "source": [
        "#q2.hint()\n",
        "#q2.solution()"
      ],
      "metadata": {
        "id": "2NXtbmxQNiZ8"
      },
      "execution_count": null,
      "outputs": []
    },
    {
      "cell_type": "markdown",
      "source": [
        "## 3.\n",
        "The [Things on Reddit](https://www.kaggle.com/residentmario/things-on-reddit/data) dataset includes product links from a selection of top-ranked forums (\"subreddits\") on reddit.com. Run the cell below to load a dataframe of products mentioned on the */r/gaming* subreddit and another dataframe for products mentioned on the *r//movies* subreddit."
      ],
      "metadata": {
        "id": "Bl77cLtiNiZ9"
      }
    },
    {
      "cell_type": "code",
      "source": [
        "gaming_products = pd.read_csv(\"../input/things-on-reddit/top-things/top-things/reddits/g/gaming.csv\")\n",
        "gaming_products['subreddit'] = \"r/gaming\"\n",
        "movie_products = pd.read_csv(\"../input/things-on-reddit/top-things/top-things/reddits/m/movies.csv\")\n",
        "movie_products['subreddit'] = \"r/movies\"\n",
        "# type(movie_products['subreddit'])"
      ],
      "metadata": {
        "execution": {
          "iopub.status.busy": "2024-02-27T15:21:00.446643Z",
          "iopub.execute_input": "2024-02-27T15:21:00.447584Z",
          "iopub.status.idle": "2024-02-27T15:21:00.46391Z",
          "shell.execute_reply.started": "2024-02-27T15:21:00.447556Z",
          "shell.execute_reply": "2024-02-27T15:21:00.462506Z"
        },
        "trusted": true,
        "id": "DHfFqu7MNiZ9"
      },
      "execution_count": null,
      "outputs": []
    },
    {
      "cell_type": "markdown",
      "source": [
        "Create a `DataFrame` of products mentioned on *either* subreddit."
      ],
      "metadata": {
        "id": "-NWbalV5NiZ9"
      }
    },
    {
      "cell_type": "code",
      "source": [
        "combined_products = pd.concat([gaming_products, movie_products])\n",
        "\n",
        "# Check your answer\n",
        "q3.check()"
      ],
      "metadata": {
        "execution": {
          "iopub.status.busy": "2024-02-27T15:20:21.701591Z",
          "iopub.execute_input": "2024-02-27T15:20:21.701966Z",
          "iopub.status.idle": "2024-02-27T15:20:21.71525Z",
          "shell.execute_reply.started": "2024-02-27T15:20:21.701938Z",
          "shell.execute_reply": "2024-02-27T15:20:21.714022Z"
        },
        "trusted": true,
        "id": "dQTJEMPfNiZ9"
      },
      "execution_count": null,
      "outputs": []
    },
    {
      "cell_type": "code",
      "source": [
        "#q3.hint()\n",
        "#q3.solution()"
      ],
      "metadata": {
        "id": "nS9PglC6NiZ9"
      },
      "execution_count": null,
      "outputs": []
    },
    {
      "cell_type": "markdown",
      "source": [
        "## 4.\n",
        "The [Powerlifting Database](https://www.kaggle.com/open-powerlifting/powerlifting-database) dataset on Kaggle includes one CSV table for powerlifting meets and a separate one for powerlifting competitors. Run the cell below to load these datasets into dataframes:"
      ],
      "metadata": {
        "id": "xzQ_stuhNiZ9"
      }
    },
    {
      "cell_type": "code",
      "source": [
        "powerlifting_meets = pd.read_csv(\"../input/powerlifting-database/meets.csv\")\n",
        "powerlifting_competitors = pd.read_csv(\"../input/powerlifting-database/openpowerlifting.csv\")\n",
        "pd.set_option('display.max_rows', 5)\n",
        "# powerlifting_meets\n",
        "powerlifting_competitors"
      ],
      "metadata": {
        "execution": {
          "iopub.status.busy": "2024-02-27T15:26:13.557487Z",
          "iopub.execute_input": "2024-02-27T15:26:13.557907Z",
          "iopub.status.idle": "2024-02-27T15:26:14.083735Z",
          "shell.execute_reply.started": "2024-02-27T15:26:13.557878Z",
          "shell.execute_reply": "2024-02-27T15:26:14.082413Z"
        },
        "trusted": true,
        "id": "wPTD0e5BNiZ9"
      },
      "execution_count": null,
      "outputs": []
    },
    {
      "cell_type": "code",
      "source": [
        "powerlifting_meets"
      ],
      "metadata": {
        "execution": {
          "iopub.status.busy": "2024-02-27T15:26:43.56318Z",
          "iopub.execute_input": "2024-02-27T15:26:43.563506Z",
          "iopub.status.idle": "2024-02-27T15:26:43.577465Z",
          "shell.execute_reply.started": "2024-02-27T15:26:43.563477Z",
          "shell.execute_reply": "2024-02-27T15:26:43.576626Z"
        },
        "trusted": true,
        "id": "rNPps7cjNiZ9"
      },
      "execution_count": null,
      "outputs": []
    },
    {
      "cell_type": "markdown",
      "source": [
        "Both tables include references to a `MeetID`, a unique key for each meet (competition) included in the database. Using this, generate a dataset combining the two tables into one."
      ],
      "metadata": {
        "id": "Z7SSHAK8NiZ9"
      }
    },
    {
      "cell_type": "code",
      "source": [
        "powerlifting_combined = powerlifting_competitors.set_index('MeetID').join(powerlifting_meets.set_index('MeetID'))\n",
        "\n",
        "# Check your answer\n",
        "q4.check()"
      ],
      "metadata": {
        "execution": {
          "iopub.status.busy": "2024-02-27T15:31:02.052751Z",
          "iopub.execute_input": "2024-02-27T15:31:02.053084Z",
          "iopub.status.idle": "2024-02-27T15:31:02.956573Z",
          "shell.execute_reply.started": "2024-02-27T15:31:02.053058Z",
          "shell.execute_reply": "2024-02-27T15:31:02.955669Z"
        },
        "trusted": true,
        "id": "gzf2EferNiZ9"
      },
      "execution_count": null,
      "outputs": []
    },
    {
      "cell_type": "code",
      "source": [
        "powerlifting_combined"
      ],
      "metadata": {
        "execution": {
          "iopub.status.busy": "2024-02-27T15:31:33.548355Z",
          "iopub.execute_input": "2024-02-27T15:31:33.548715Z",
          "iopub.status.idle": "2024-02-27T15:31:33.960246Z",
          "shell.execute_reply.started": "2024-02-27T15:31:33.548688Z",
          "shell.execute_reply": "2024-02-27T15:31:33.958991Z"
        },
        "trusted": true,
        "id": "BTNlecPzNiZ9"
      },
      "execution_count": null,
      "outputs": []
    },
    {
      "cell_type": "code",
      "source": [
        "#q4.hint()\n",
        "#q4.solution()"
      ],
      "metadata": {
        "id": "AI0ULTYUNiZ9"
      },
      "execution_count": null,
      "outputs": []
    },
    {
      "cell_type": "markdown",
      "source": [
        "# Congratulations!\n",
        "\n",
        "You've finished the Pandas micro-course.  Many data scientists feel efficiency with Pandas is the most useful and practical skill they have, because it allows you to progress quickly in any project you have.\n",
        "\n",
        "If you'd like to apply your new skills to examining geospatial data, you're encouraged to check out our **[Geospatial Analysis](https://www.kaggle.com/learn/geospatial-analysis)** micro-course.\n",
        "\n",
        "You can also take advantage of your Pandas skills by entering a **[Kaggle Competition](https://www.kaggle.com/competitions)** or by answering a question you find interesting using **[Kaggle Datasets](https://www.kaggle.com/datasets)**."
      ],
      "metadata": {
        "id": "dCUDiWyQNiZ9"
      }
    },
    {
      "cell_type": "markdown",
      "source": [
        "---\n",
        "\n",
        "\n",
        "\n",
        "\n",
        "*Have questions or comments? Visit the [course discussion forum](https://www.kaggle.com/learn/pandas/discussion) to chat with other learners.*"
      ],
      "metadata": {
        "id": "9EohfktiNiZ9"
      }
    }
  ]
}