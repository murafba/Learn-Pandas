{
  "metadata": {
    "kernelspec": {
      "display_name": "Python 3",
      "language": "python",
      "name": "python3"
    },
    "language_info": {
      "name": "python",
      "version": "3.10.13",
      "mimetype": "text/x-python",
      "codemirror_mode": {
        "name": "ipython",
        "version": 3
      },
      "pygments_lexer": "ipython3",
      "nbconvert_exporter": "python",
      "file_extension": ".py"
    },
    "kaggle": {
      "accelerator": "none",
      "dataSources": [
        {
          "sourceId": 1252,
          "sourceType": "datasetVersion",
          "datasetId": 655
        },
        {
          "sourceId": 3919,
          "sourceType": "datasetVersion",
          "datasetId": 2321
        },
        {
          "sourceId": 4877,
          "sourceType": "datasetVersion",
          "datasetId": 2894
        },
        {
          "sourceId": 5624,
          "sourceType": "datasetVersion",
          "datasetId": 3491
        },
        {
          "sourceId": 8172,
          "sourceType": "datasetVersion",
          "datasetId": 1442
        },
        {
          "sourceId": 13206,
          "sourceType": "datasetVersion",
          "datasetId": 9366
        },
        {
          "sourceId": 403916,
          "sourceType": "datasetVersion",
          "datasetId": 179555
        },
        {
          "sourceId": 466349,
          "sourceType": "datasetVersion",
          "datasetId": 4549
        },
        {
          "sourceId": 1151655,
          "sourceType": "datasetVersion",
          "datasetId": 2478
        },
        {
          "sourceId": 5438389,
          "sourceType": "datasetVersion",
          "datasetId": 10128
        }
      ],
      "isInternetEnabled": false,
      "language": "python",
      "sourceType": "notebook",
      "isGpuEnabled": false
    },
    "colab": {
      "name": "Exercise: Creating, Reading and Writing",
      "provenance": []
    }
  },
  "nbformat_minor": 0,
  "nbformat": 4,
  "cells": [
    {
      "source": [
        "\n",
        "# IMPORTANT: RUN THIS CELL IN ORDER TO IMPORT YOUR KAGGLE DATA SOURCES\n",
        "# TO THE CORRECT LOCATION (/kaggle/input) IN YOUR NOTEBOOK,\n",
        "# THEN FEEL FREE TO DELETE THIS CELL.\n",
        "# NOTE: THIS NOTEBOOK ENVIRONMENT DIFFERS FROM KAGGLE'S PYTHON\n",
        "# ENVIRONMENT SO THERE MAY BE MISSING LIBRARIES USED BY YOUR\n",
        "# NOTEBOOK.\n",
        "\n",
        "import os\n",
        "import sys\n",
        "from tempfile import NamedTemporaryFile\n",
        "from urllib.request import urlopen\n",
        "from urllib.parse import unquote, urlparse\n",
        "from urllib.error import HTTPError\n",
        "from zipfile import ZipFile\n",
        "import tarfile\n",
        "import shutil\n",
        "\n",
        "CHUNK_SIZE = 40960\n",
        "DATA_SOURCE_MAPPING = 'pitchfork-data:https%3A%2F%2Fstorage.googleapis.com%2Fkaggle-data-sets%2F655%2F1252%2Fbundle%2Farchive.zip%3FX-Goog-Algorithm%3DGOOG4-RSA-SHA256%26X-Goog-Credential%3Dgcp-kaggle-com%2540kaggle-161607.iam.gserviceaccount.com%252F20240223%252Fauto%252Fstorage%252Fgoog4_request%26X-Goog-Date%3D20240223T110452Z%26X-Goog-Expires%3D259200%26X-Goog-SignedHeaders%3Dhost%26X-Goog-Signature%3D000497dc1cd8dcde9b15b8ed2efca05d8a4cfac474aee4d800e2da83b3c27287ae9c3bda0bcae869e25a1c82fb7587431ca645d7d3ceae0a2353bcfdb0410e2eb016f4b62cf7bfbb6f3e2430b78fc6d5f366dac68d275d0c2a7d18b068cfb0498f1e1a851ec6ecd0afd7045db70524388a4ed10e4107998daff409354051f761d33d5c842bf9f7c153cee6360b82b31f1cc116580c18c54e708c203661a2b7351d50c576c91a4a750374263e6411bff4c1423612e66ce82798c8e4f91ba573a5073c21e76117c2905588c0f47f1161f0d9b84fb5a70e94d2961bb6cf2610f1bf824d540d23a01f9fda8f85dae50bbf707c10576bd763e644bf0cd600e002d8b3,chess:https%3A%2F%2Fstorage.googleapis.com%2Fkaggle-data-sets%2F2321%2F3919%2Fbundle%2Farchive.zip%3FX-Goog-Algorithm%3DGOOG4-RSA-SHA256%26X-Goog-Credential%3Dgcp-kaggle-com%2540kaggle-161607.iam.gserviceaccount.com%252F20240223%252Fauto%252Fstorage%252Fgoog4_request%26X-Goog-Date%3D20240223T110452Z%26X-Goog-Expires%3D259200%26X-Goog-SignedHeaders%3Dhost%26X-Goog-Signature%3D1d296d33a2b9a18ea76bb1cadce3a7f26859c59c3e872e103ac7cb120dc595cd66b3b77a2a3442da0c69cfbb9d2132a4ed6e71a2247ada01cf8616d76fc532ea6e50c47514411fbccc37949756e39606c833d74b7a0faca203ac95d794654d4dcd936ffb36c48623e43d6404540406dfd003ace60e93e8ee41542f052a763529a96996f09cbf44b5703e24616a4358e9dc681d41664cb07f944cde227bb77f8db132eb0d735160e9cb625a9ac73bd89e8b039f0259b94adbbdaf735cf25da853975677118eed2f8c02be4af583f6b230bdaf6b2d79591ebbca0facf90396126c7ac1b411e2ef0a96d7b963d1f7b7d10fefb3ac18d0ab6dbbbc553b40fa1c5de8,kepler-exoplanet-search-results:https%3A%2F%2Fstorage.googleapis.com%2Fkaggle-data-sets%2F2894%2F4877%2Fbundle%2Farchive.zip%3FX-Goog-Algorithm%3DGOOG4-RSA-SHA256%26X-Goog-Credential%3Dgcp-kaggle-com%2540kaggle-161607.iam.gserviceaccount.com%252F20240223%252Fauto%252Fstorage%252Fgoog4_request%26X-Goog-Date%3D20240223T110452Z%26X-Goog-Expires%3D259200%26X-Goog-SignedHeaders%3Dhost%26X-Goog-Signature%3D3f2e959ac9226d2997e8aefb9c1fbede40a829797332fc9a041bb2105c985358662d3f212c89e297b28ed0112ae982f4ccddae848c05072ed053e24d0ed575d0f39fe4c799cfc31fd9d620f7a3921623a2aadbdd000cf883a52ab516399440e5107f87aa2a7875a6c83d7377b633934a20dea9f3b927ae7d5247a662345a54a3144eab195a302cc2c99938a693c33f917da06b3b79d7353611873a419878189e978f6a97c6179ce43776e91e91ab66a543de7190192bf3f2f5b5e27f8ae284201461c1bf2ddb5199a7318b7faa0a8e56705bb2c10b0eb9bff264994490a948c6d17f10c95598e30999f5590df227bcd5ef3c6dcab5ff6245b386730b4928eced,things-on-reddit:https%3A%2F%2Fstorage.googleapis.com%2Fkaggle-data-sets%2F3491%2F5624%2Fbundle%2Farchive.zip%3FX-Goog-Algorithm%3DGOOG4-RSA-SHA256%26X-Goog-Credential%3Dgcp-kaggle-com%2540kaggle-161607.iam.gserviceaccount.com%252F20240223%252Fauto%252Fstorage%252Fgoog4_request%26X-Goog-Date%3D20240223T110452Z%26X-Goog-Expires%3D259200%26X-Goog-SignedHeaders%3Dhost%26X-Goog-Signature%3D3175f5a633e493441d945a1da38054edd02c385550f3b764b47328772bf8562333ee77a0ace163da4e4d70276604d1271f2d9ae88d1fbe6b54521ce8d8adbfbdd8885297cc21e68152f4eb09843eef77c3dfeefd4927b0f91d0230ef170cfeb75b28cc2a91e25ee3a9643870364ac5f313014b24a6456abb652a1ad6be7103c0cfbd8b9b02550cee0dfa89b903db1281a0aa16d46122b2246677d700f4ddc476bd803706764cd28a5a4fcca4d6bcbfe1111e3b12ed59c3d3b7f5c881c846f70b0eadd39ac08b705d435f7371b235fcc5ec801854d5a3261a97da409a41e8f2736a054fd52f7fc60e68324d3670fe00fd418ceb89c8effd68371c876d17faa89e,wine-reviews:https%3A%2F%2Fstorage.googleapis.com%2Fkaggle-data-sets%2F1442%2F8172%2Fbundle%2Farchive.zip%3FX-Goog-Algorithm%3DGOOG4-RSA-SHA256%26X-Goog-Credential%3Dgcp-kaggle-com%2540kaggle-161607.iam.gserviceaccount.com%252F20240223%252Fauto%252Fstorage%252Fgoog4_request%26X-Goog-Date%3D20240223T110452Z%26X-Goog-Expires%3D259200%26X-Goog-SignedHeaders%3Dhost%26X-Goog-Signature%3D1a26483cf9518c346b5a4f010c3d8a80adb85e9b7f475023ce95d9afb538c4ba35e2448a98dc778159c8557462751986be35b3505e936f8683d10acd250f350a3d9363d5c97974d48381ce85f58da18facecbcce3b46eaf68d5c005cd00b2377da1b6391c68b9917f9cbf448a84acac7244134c553a7ffc70c869a31d0097ed71c7088e031ca93becf22aa165115e4125973a45e2a15a3e2e5219ae3ab58d574b2cd51f1e8fe59791a7656d32cc92d23e8b643f82168bcb22fe921131d82f84654203bb7711112c749aa938e226b5faf082393cebe756993cf00cf12859d2325847d7bbda2525b6373b70543c752ab8e04e5cabeff360891ee817186a8c4452c,ramen-ratings:https%3A%2F%2Fstorage.googleapis.com%2Fkaggle-data-sets%2F9366%2F13206%2Fbundle%2Farchive.zip%3FX-Goog-Algorithm%3DGOOG4-RSA-SHA256%26X-Goog-Credential%3Dgcp-kaggle-com%2540kaggle-161607.iam.gserviceaccount.com%252F20240223%252Fauto%252Fstorage%252Fgoog4_request%26X-Goog-Date%3D20240223T110452Z%26X-Goog-Expires%3D259200%26X-Goog-SignedHeaders%3Dhost%26X-Goog-Signature%3D490358529f14b34bed456703f5f0490d8a70a721c0afcae5ae8a42d90e1e35bbb3152b2666e76478b5eaecf520a0415385bbfcf12777c7088adcf6b3dcdb845548ae94efd529c9eca6d40cc5c11a94fdc23f91e8b013d6eb4e0b755c4097534398d6c05ae1f2912eb333ba5480b6d4c0d4648d99529857df832ab3ae89b34d39e2297e6b52a1c70e23f179a8b5524d648f18e851bb9a1b0e03774cc463f29895d512a4fbe52cecb78f28baa9525220ec837faa89c767c09c1b2f9b20debc5524a53a9723654759272a8d6373e95734d5826dd2370d606cb4516f6d4e639c0c864c9f90f2e9a87e0b40cc2a4d174b0493f1c52ec4a81f3b4ac8befd02681de765,powerlifting-database:https%3A%2F%2Fstorage.googleapis.com%2Fkaggle-data-sets%2F179555%2F403916%2Fbundle%2Farchive.zip%3FX-Goog-Algorithm%3DGOOG4-RSA-SHA256%26X-Goog-Credential%3Dgcp-kaggle-com%2540kaggle-161607.iam.gserviceaccount.com%252F20240223%252Fauto%252Fstorage%252Fgoog4_request%26X-Goog-Date%3D20240223T110452Z%26X-Goog-Expires%3D259200%26X-Goog-SignedHeaders%3Dhost%26X-Goog-Signature%3D2b0e9f6653a8ca385921c7bbe2dff3998aabadbefd42323d91a95122164edae33d1e593789f981d967596d2419e5acebf3e44d2b08bd0033254d8db5807d2ec57db8b2cb76c89b566d65a3949d0dbbffff41d5224e958d3e7f9ebdb7e7b3f278bdb8c74313156189feb00568458870b3b95102324b4ccc71ca5806b43b6260f15e5b3f9d8e57060d768e416739b548f3a658e32761f2ac6f4bef0af4466d68b898cd77d38c184fedf2aa9aa5c43448a8e2ab9e164a7876600986fa5fa5cb666c5f98f9ea0099607a6ddd500aaeee0b5c8fa0cb29208f8c1db1234b6edc06fad9f74c25a3f0425b89481341de78a7ea10161f3058339e9efae152ffd9f4699d46,youtube-new:https%3A%2F%2Fstorage.googleapis.com%2Fkaggle-data-sets%2F4549%2F466349%2Fbundle%2Farchive.zip%3FX-Goog-Algorithm%3DGOOG4-RSA-SHA256%26X-Goog-Credential%3Dgcp-kaggle-com%2540kaggle-161607.iam.gserviceaccount.com%252F20240223%252Fauto%252Fstorage%252Fgoog4_request%26X-Goog-Date%3D20240223T110452Z%26X-Goog-Expires%3D259200%26X-Goog-SignedHeaders%3Dhost%26X-Goog-Signature%3Da4f9e84b51bb4664371b5b6a6d263f5cfdf206f12a02de13690854b22a8f22ad671e4c12140c33e69e63baf8a8b6c72def995bfb9faae3b4fa33fba9f95fd6108ee09751866583494aecd9cb5db50d9a23a9bee5211dfffd0b79fd6074c7dbdc20abcfa2372b04d3d0215ca56fd5fce48dfd2e946f7a472613047c9a1e4fe974706e161f2091ec49a47cb6b3237ab6e781eb2e3f9569cc03f1d16d9ced5bfabf5ae02e5df17dfa5713a615d18c2670a19ad29957346d6eaa81df6c8fdb86eef751459b4e2efc0f49ebd853c387cc002e6a2174ac13b8cbcb9f8af7f7fab911789a3f71464c1c5353da35f3782e51c57d7a2405b70e52afd1f9a45a5fec6cac76,188-million-us-wildfires:https%3A%2F%2Fstorage.googleapis.com%2Fkaggle-data-sets%2F2478%2F1151655%2Fbundle%2Farchive.zip%3FX-Goog-Algorithm%3DGOOG4-RSA-SHA256%26X-Goog-Credential%3Dgcp-kaggle-com%2540kaggle-161607.iam.gserviceaccount.com%252F20240223%252Fauto%252Fstorage%252Fgoog4_request%26X-Goog-Date%3D20240223T110452Z%26X-Goog-Expires%3D259200%26X-Goog-SignedHeaders%3Dhost%26X-Goog-Signature%3D19cd418b05c07e7bba1d5b7f999b4965ebc68f6e4447c789e389e5b85961b42842c9ee02bbe05d4df18717182309299fc2542719bc46be4106c2c74244ee4ce10435ce1cfd3b842c3e16eaf38d90cebe828604ddbe54c6b069b405e722619d38253a0e5a84290fe92e4249d6ddb6d6b0616b59d8da43e6f17ed3012dc21582bc944bb23faa7aeb031cc397d7ecb5b65dc110e3e2a58897520ab74f0b15eb058ba648c3f1fb4abe7e090234aa63d4849f10c38999fb9faf9fdf953f936587af68d2c06ab1a6a239564bf54230f4ea1ee8992bca31b68a25459c403984a7180e0411d7bc6f2f75c63b22154076a1cb108d64f09cc8728f5ac87235f04d41158042,publicassistance:https%3A%2F%2Fstorage.googleapis.com%2Fkaggle-data-sets%2F10128%2F5438389%2Fbundle%2Farchive.zip%3FX-Goog-Algorithm%3DGOOG4-RSA-SHA256%26X-Goog-Credential%3Dgcp-kaggle-com%2540kaggle-161607.iam.gserviceaccount.com%252F20240223%252Fauto%252Fstorage%252Fgoog4_request%26X-Goog-Date%3D20240223T110452Z%26X-Goog-Expires%3D259200%26X-Goog-SignedHeaders%3Dhost%26X-Goog-Signature%3D01f9fb4831d9af75eaea41cf1ff496ce49a84b6b6faa0dc7d55b014f4924edd3fad430c11e6e1c7a25cbd0ee3db42ad0b1e494c60dc31ca4b4d36cd25e8e388f4c9eb54f21850d14d7a4f9bd8c8c3fb9cf453f129221a8f0e89c19a39c12220807c3860dc21ea9cc37559d5eed48c0558fe65b2c5d02515fa13a7cf1d4641a53a4d7444fde06687bacb5f2889d1664fb551cf4e1cdaf5114bfb4aa4180b3bb37445d60623d1217750a8dc0e044cab309510779e07826d1d8cddf96064c15ca781707bded5534c74530856f04f05275723aa5257f5ece8caea7b8571736f206b66fdbe847fe61da7d91b8cebfc1fd753f03e9ebd823f5a905c1cc0d3a0439d089'\n",
        "\n",
        "KAGGLE_INPUT_PATH='/kaggle/input'\n",
        "KAGGLE_WORKING_PATH='/kaggle/working'\n",
        "KAGGLE_SYMLINK='kaggle'\n",
        "\n",
        "!umount /kaggle/input/ 2> /dev/null\n",
        "shutil.rmtree('/kaggle/input', ignore_errors=True)\n",
        "os.makedirs(KAGGLE_INPUT_PATH, 0o777, exist_ok=True)\n",
        "os.makedirs(KAGGLE_WORKING_PATH, 0o777, exist_ok=True)\n",
        "\n",
        "try:\n",
        "  os.symlink(KAGGLE_INPUT_PATH, os.path.join(\"..\", 'input'), target_is_directory=True)\n",
        "except FileExistsError:\n",
        "  pass\n",
        "try:\n",
        "  os.symlink(KAGGLE_WORKING_PATH, os.path.join(\"..\", 'working'), target_is_directory=True)\n",
        "except FileExistsError:\n",
        "  pass\n",
        "\n",
        "for data_source_mapping in DATA_SOURCE_MAPPING.split(','):\n",
        "    directory, download_url_encoded = data_source_mapping.split(':')\n",
        "    download_url = unquote(download_url_encoded)\n",
        "    filename = urlparse(download_url).path\n",
        "    destination_path = os.path.join(KAGGLE_INPUT_PATH, directory)\n",
        "    try:\n",
        "        with urlopen(download_url) as fileres, NamedTemporaryFile() as tfile:\n",
        "            total_length = fileres.headers['content-length']\n",
        "            print(f'Downloading {directory}, {total_length} bytes compressed')\n",
        "            dl = 0\n",
        "            data = fileres.read(CHUNK_SIZE)\n",
        "            while len(data) > 0:\n",
        "                dl += len(data)\n",
        "                tfile.write(data)\n",
        "                done = int(50 * dl / int(total_length))\n",
        "                sys.stdout.write(f\"\\r[{'=' * done}{' ' * (50-done)}] {dl} bytes downloaded\")\n",
        "                sys.stdout.flush()\n",
        "                data = fileres.read(CHUNK_SIZE)\n",
        "            if filename.endswith('.zip'):\n",
        "              with ZipFile(tfile) as zfile:\n",
        "                zfile.extractall(destination_path)\n",
        "            else:\n",
        "              with tarfile.open(tfile.name) as tarfile:\n",
        "                tarfile.extractall(destination_path)\n",
        "            print(f'\\nDownloaded and uncompressed: {directory}')\n",
        "    except HTTPError as e:\n",
        "        print(f'Failed to load (likely expired) {download_url} to path {destination_path}')\n",
        "        continue\n",
        "    except OSError as e:\n",
        "        print(f'Failed to load {download_url} to path {destination_path}')\n",
        "        continue\n",
        "\n",
        "print('Data source import complete.')\n"
      ],
      "metadata": {
        "id": "38VoArjDpSX1"
      },
      "cell_type": "code",
      "outputs": [],
      "execution_count": null
    },
    {
      "cell_type": "markdown",
      "source": [
        "**This notebook is an exercise in the [Pandas](https://www.kaggle.com/learn/pandas) course.  You can reference the tutorial at [this link](https://www.kaggle.com/residentmario/creating-reading-and-writing).**\n",
        "\n",
        "---\n"
      ],
      "metadata": {
        "id": "VT_YDf9VpSX3"
      }
    },
    {
      "cell_type": "markdown",
      "source": [
        "# Introduction\n",
        "\n",
        "The first step in most data analytics projects is reading the data file. In this exercise, you'll create Series and DataFrame objects, both by hand and by reading data files.\n",
        "\n",
        "Run the code cell below to load libraries you will need (including code to check your answers)."
      ],
      "metadata": {
        "id": "KZKkCbhmpSX3"
      }
    },
    {
      "cell_type": "code",
      "source": [
        "import pandas as pd\n",
        "pd.set_option('display.max_rows', 5)\n",
        "from learntools.core import binder; binder.bind(globals())\n",
        "from learntools.pandas.creating_reading_and_writing import *\n",
        "print(\"Setup complete.\")"
      ],
      "metadata": {
        "execution": {
          "iopub.status.busy": "2024-02-23T10:50:09.008308Z",
          "iopub.execute_input": "2024-02-23T10:50:09.008803Z",
          "iopub.status.idle": "2024-02-23T10:50:12.240713Z",
          "shell.execute_reply.started": "2024-02-23T10:50:09.008762Z",
          "shell.execute_reply": "2024-02-23T10:50:12.239134Z"
        },
        "trusted": true,
        "id": "o-X7hjnDpSX4",
        "outputId": "91abea0a-1794-4fc3-c53f-aa7ed2973719"
      },
      "execution_count": null,
      "outputs": [
        {
          "name": "stdout",
          "text": "Setup complete.\n",
          "output_type": "stream"
        }
      ]
    },
    {
      "cell_type": "markdown",
      "source": [
        "# Exercises"
      ],
      "metadata": {
        "id": "Sj_KD2PzpSX4"
      }
    },
    {
      "cell_type": "markdown",
      "source": [
        "## 1.\n",
        "\n",
        "In the cell below, create a DataFrame `fruits` that looks like this:\n",
        "\n",
        "![](https://storage.googleapis.com/kaggle-media/learn/images/Ax3pp2A.png)"
      ],
      "metadata": {
        "id": "3V_i2y8UpSX4"
      }
    },
    {
      "cell_type": "code",
      "source": [
        "# Your code goes here. Create a dataframe matching the above diagram and assign it to the variable fruits.\n",
        "fruits = pd.DataFrame({'Apples': 30, 'Bananas': 21}, index=[0])\n",
        "\n",
        "# Check your answer\n",
        "q1.check()\n",
        "fruits"
      ],
      "metadata": {
        "execution": {
          "iopub.status.busy": "2024-02-23T10:52:00.605438Z",
          "iopub.execute_input": "2024-02-23T10:52:00.605983Z",
          "iopub.status.idle": "2024-02-23T10:52:00.640308Z",
          "shell.execute_reply.started": "2024-02-23T10:52:00.605947Z",
          "shell.execute_reply": "2024-02-23T10:52:00.638753Z"
        },
        "trusted": true,
        "id": "jxa9RoLfpSX4",
        "outputId": "9f5cdbab-c7a5-4085-b472-9d8d71628d7a"
      },
      "execution_count": null,
      "outputs": [
        {
          "output_type": "display_data",
          "data": {
            "text/plain": "<IPython.core.display.Javascript object>",
            "application/javascript": "parent.postMessage({\"jupyterEvent\": \"custom.exercise_interaction\", \"data\": {\"outcomeType\": 1, \"valueTowardsCompletion\": 0.16666666666666666, \"interactionType\": 1, \"questionType\": 1, \"questionId\": \"1_FruitDfCreation\", \"learnToolsVersion\": \"0.3.4\", \"failureMessage\": \"\", \"exceptionClass\": \"\", \"trace\": \"\"}}, \"*\")"
          },
          "metadata": {}
        },
        {
          "output_type": "display_data",
          "data": {
            "text/plain": "Correct",
            "text/markdown": "<span style=\"color:#33cc33\">Correct</span>"
          },
          "metadata": {}
        },
        {
          "execution_count": 3,
          "output_type": "execute_result",
          "data": {
            "text/plain": "   Apples  Bananas\n0      30       21",
            "text/html": "<div>\n<style scoped>\n    .dataframe tbody tr th:only-of-type {\n        vertical-align: middle;\n    }\n\n    .dataframe tbody tr th {\n        vertical-align: top;\n    }\n\n    .dataframe thead th {\n        text-align: right;\n    }\n</style>\n<table border=\"1\" class=\"dataframe\">\n  <thead>\n    <tr style=\"text-align: right;\">\n      <th></th>\n      <th>Apples</th>\n      <th>Bananas</th>\n    </tr>\n  </thead>\n  <tbody>\n    <tr>\n      <th>0</th>\n      <td>30</td>\n      <td>21</td>\n    </tr>\n  </tbody>\n</table>\n</div>"
          },
          "metadata": {}
        }
      ]
    },
    {
      "cell_type": "code",
      "source": [
        "#q1.hint()\n",
        "#q1.solution()"
      ],
      "metadata": {
        "id": "LoU550qopSX4"
      },
      "execution_count": null,
      "outputs": []
    },
    {
      "cell_type": "markdown",
      "source": [
        "## 2.\n",
        "\n",
        "Create a dataframe `fruit_sales` that matches the diagram below:\n",
        "\n",
        "![](https://storage.googleapis.com/kaggle-media/learn/images/CHPn7ZF.png)"
      ],
      "metadata": {
        "id": "Qa4C3J9FpSX4"
      }
    },
    {
      "cell_type": "code",
      "source": [
        "# Your code goes here. Create a dataframe matching the above diagram and assign it to the variable fruit_sales.\n",
        "fruit_sales = pd.DataFrame({'Apples': [35, 41], 'Bananas': [21, 34]}, index=['2017 Sales', '2018 Sales'])\n",
        "\n",
        "# Check your answer\n",
        "q2.check()\n",
        "fruit_sales"
      ],
      "metadata": {
        "execution": {
          "iopub.status.busy": "2024-02-23T10:54:21.642184Z",
          "iopub.execute_input": "2024-02-23T10:54:21.643449Z",
          "iopub.status.idle": "2024-02-23T10:54:21.663829Z",
          "shell.execute_reply.started": "2024-02-23T10:54:21.6434Z",
          "shell.execute_reply": "2024-02-23T10:54:21.662873Z"
        },
        "trusted": true,
        "id": "29c3tNtZpSX4",
        "outputId": "e0b4ea85-3d66-412f-cc23-bf2b476672b4"
      },
      "execution_count": null,
      "outputs": [
        {
          "output_type": "display_data",
          "data": {
            "text/plain": "<IPython.core.display.Javascript object>",
            "application/javascript": "parent.postMessage({\"jupyterEvent\": \"custom.exercise_interaction\", \"data\": {\"outcomeType\": 1, \"valueTowardsCompletion\": 0.16666666666666666, \"interactionType\": 1, \"questionType\": 1, \"questionId\": \"2_FruitSalesDfCreation\", \"learnToolsVersion\": \"0.3.4\", \"failureMessage\": \"\", \"exceptionClass\": \"\", \"trace\": \"\"}}, \"*\")"
          },
          "metadata": {}
        },
        {
          "output_type": "display_data",
          "data": {
            "text/plain": "Correct",
            "text/markdown": "<span style=\"color:#33cc33\">Correct</span>"
          },
          "metadata": {}
        },
        {
          "execution_count": 5,
          "output_type": "execute_result",
          "data": {
            "text/plain": "            Apples  Bananas\n2017 Sales      35       21\n2018 Sales      41       34",
            "text/html": "<div>\n<style scoped>\n    .dataframe tbody tr th:only-of-type {\n        vertical-align: middle;\n    }\n\n    .dataframe tbody tr th {\n        vertical-align: top;\n    }\n\n    .dataframe thead th {\n        text-align: right;\n    }\n</style>\n<table border=\"1\" class=\"dataframe\">\n  <thead>\n    <tr style=\"text-align: right;\">\n      <th></th>\n      <th>Apples</th>\n      <th>Bananas</th>\n    </tr>\n  </thead>\n  <tbody>\n    <tr>\n      <th>2017 Sales</th>\n      <td>35</td>\n      <td>21</td>\n    </tr>\n    <tr>\n      <th>2018 Sales</th>\n      <td>41</td>\n      <td>34</td>\n    </tr>\n  </tbody>\n</table>\n</div>"
          },
          "metadata": {}
        }
      ]
    },
    {
      "cell_type": "code",
      "source": [
        "#q2.hint()\n",
        "#q2.solution()"
      ],
      "metadata": {
        "id": "DViXxV3gpSX4"
      },
      "execution_count": null,
      "outputs": []
    },
    {
      "cell_type": "markdown",
      "source": [
        "## 3.\n",
        "\n",
        "Create a variable `ingredients` with a Series that looks like:\n",
        "\n",
        "```\n",
        "Flour     4 cups\n",
        "Milk       1 cup\n",
        "Eggs     2 large\n",
        "Spam       1 can\n",
        "Name: Dinner, dtype: object\n",
        "```"
      ],
      "metadata": {
        "id": "5mnokk68pSX5"
      }
    },
    {
      "cell_type": "code",
      "source": [
        "ingredients = pd.Series(['4 cups', '1 cup', '2 large', '1 can'], index=['Flour', 'Milk', 'Eggs', 'Spam'], name='Dinner')\n",
        "\n",
        "# Check your answer\n",
        "q3.check()\n",
        "ingredients"
      ],
      "metadata": {
        "execution": {
          "iopub.status.busy": "2024-02-23T10:55:28.444228Z",
          "iopub.execute_input": "2024-02-23T10:55:28.44465Z",
          "iopub.status.idle": "2024-02-23T10:55:28.459691Z",
          "shell.execute_reply.started": "2024-02-23T10:55:28.444618Z",
          "shell.execute_reply": "2024-02-23T10:55:28.458421Z"
        },
        "trusted": true,
        "id": "LoPQF_7PpSX5",
        "outputId": "1358620c-5a2e-4cab-eaf8-856fce45f467"
      },
      "execution_count": null,
      "outputs": [
        {
          "output_type": "display_data",
          "data": {
            "text/plain": "<IPython.core.display.Javascript object>",
            "application/javascript": "parent.postMessage({\"jupyterEvent\": \"custom.exercise_interaction\", \"data\": {\"outcomeType\": 1, \"valueTowardsCompletion\": 0.16666666666666666, \"interactionType\": 1, \"questionType\": 2, \"questionId\": \"3_RecipeSeriesCreation\", \"learnToolsVersion\": \"0.3.4\", \"failureMessage\": \"\", \"exceptionClass\": \"\", \"trace\": \"\"}}, \"*\")"
          },
          "metadata": {}
        },
        {
          "output_type": "display_data",
          "data": {
            "text/plain": "Correct",
            "text/markdown": "<span style=\"color:#33cc33\">Correct</span>"
          },
          "metadata": {}
        },
        {
          "execution_count": 6,
          "output_type": "execute_result",
          "data": {
            "text/plain": "Flour     4 cups\nMilk       1 cup\nEggs     2 large\nSpam       1 can\nName: Dinner, dtype: object"
          },
          "metadata": {}
        }
      ]
    },
    {
      "cell_type": "code",
      "source": [
        "#q3.hint()\n",
        "#q3.solution()"
      ],
      "metadata": {
        "id": "gs2RN0S3pSX5"
      },
      "execution_count": null,
      "outputs": []
    },
    {
      "cell_type": "markdown",
      "source": [
        "## 4.\n",
        "\n",
        "Read the following csv dataset of wine reviews into a DataFrame called `reviews`:\n",
        "\n",
        "![](https://storage.googleapis.com/kaggle-media/learn/images/74RCZtU.png)\n",
        "\n",
        "The filepath to the csv file is `../input/wine-reviews/winemag-data_first150k.csv`. The first few lines look like:\n",
        "\n",
        "```\n",
        ",country,description,designation,points,price,province,region_1,region_2,variety,winery\n",
        "0,US,\"This tremendous 100% varietal wine[...]\",Martha's Vineyard,96,235.0,California,Napa Valley,Napa,Cabernet Sauvignon,Heitz\n",
        "1,Spain,\"Ripe aromas of fig, blackberry and[...]\",Carodorum Selección Especial Reserva,96,110.0,Northern Spain,Toro,,Tinta de Toro,Bodega Carmen Rodríguez\n",
        "```"
      ],
      "metadata": {
        "id": "D4GHS_2DpSX5"
      }
    },
    {
      "cell_type": "code",
      "source": [
        "reviews = pd.read_csv(\"../input/wine-reviews/winemag-data_first150k.csv\", index_col=0)\n",
        "\n",
        "# Check your answer\n",
        "q4.check()\n",
        "reviews"
      ],
      "metadata": {
        "execution": {
          "iopub.status.busy": "2024-02-23T10:57:01.270119Z",
          "iopub.execute_input": "2024-02-23T10:57:01.270581Z",
          "iopub.status.idle": "2024-02-23T10:57:02.635216Z",
          "shell.execute_reply.started": "2024-02-23T10:57:01.270547Z",
          "shell.execute_reply": "2024-02-23T10:57:02.63375Z"
        },
        "trusted": true,
        "id": "LqO1PiAqpSX5",
        "outputId": "484aa377-cdfd-4b32-d1fe-c2290d63c9f8"
      },
      "execution_count": null,
      "outputs": [
        {
          "output_type": "display_data",
          "data": {
            "text/plain": "<IPython.core.display.Javascript object>",
            "application/javascript": "parent.postMessage({\"jupyterEvent\": \"custom.exercise_interaction\", \"data\": {\"outcomeType\": 1, \"valueTowardsCompletion\": 0.16666666666666666, \"interactionType\": 1, \"questionType\": 1, \"questionId\": \"4_ReadWineCsv\", \"learnToolsVersion\": \"0.3.4\", \"failureMessage\": \"\", \"exceptionClass\": \"\", \"trace\": \"\"}}, \"*\")"
          },
          "metadata": {}
        },
        {
          "output_type": "display_data",
          "data": {
            "text/plain": "Correct",
            "text/markdown": "<span style=\"color:#33cc33\">Correct</span>"
          },
          "metadata": {}
        },
        {
          "execution_count": 8,
          "output_type": "execute_result",
          "data": {
            "text/plain": "       country                                        description  \\\n0           US  This tremendous 100% varietal wine hails from ...   \n1        Spain  Ripe aromas of fig, blackberry and cassis are ...   \n...        ...                                                ...   \n150928  France  A perfect salmon shade, with scents of peaches...   \n150929   Italy  More Pinot Grigios should taste like this. A r...   \n\n                                 designation  points  price  \\\n0                          Martha's Vineyard      96  235.0   \n1       Carodorum Selección Especial Reserva      96  110.0   \n...                                      ...     ...    ...   \n150928                       Grand Brut Rosé      90   52.0   \n150929                                   NaN      90   15.0   \n\n                  province     region_1 region_2             variety  \\\n0               California  Napa Valley     Napa  Cabernet Sauvignon   \n1           Northern Spain         Toro      NaN       Tinta de Toro   \n...                    ...          ...      ...                 ...   \n150928           Champagne    Champagne      NaN     Champagne Blend   \n150929  Northeastern Italy   Alto Adige      NaN        Pinot Grigio   \n\n                         winery  \n0                         Heitz  \n1       Bodega Carmen Rodríguez  \n...                         ...  \n150928                   Gosset  \n150929            Alois Lageder  \n\n[150930 rows x 10 columns]",
            "text/html": "<div>\n<style scoped>\n    .dataframe tbody tr th:only-of-type {\n        vertical-align: middle;\n    }\n\n    .dataframe tbody tr th {\n        vertical-align: top;\n    }\n\n    .dataframe thead th {\n        text-align: right;\n    }\n</style>\n<table border=\"1\" class=\"dataframe\">\n  <thead>\n    <tr style=\"text-align: right;\">\n      <th></th>\n      <th>country</th>\n      <th>description</th>\n      <th>designation</th>\n      <th>points</th>\n      <th>price</th>\n      <th>province</th>\n      <th>region_1</th>\n      <th>region_2</th>\n      <th>variety</th>\n      <th>winery</th>\n    </tr>\n  </thead>\n  <tbody>\n    <tr>\n      <th>0</th>\n      <td>US</td>\n      <td>This tremendous 100% varietal wine hails from ...</td>\n      <td>Martha's Vineyard</td>\n      <td>96</td>\n      <td>235.0</td>\n      <td>California</td>\n      <td>Napa Valley</td>\n      <td>Napa</td>\n      <td>Cabernet Sauvignon</td>\n      <td>Heitz</td>\n    </tr>\n    <tr>\n      <th>1</th>\n      <td>Spain</td>\n      <td>Ripe aromas of fig, blackberry and cassis are ...</td>\n      <td>Carodorum Selección Especial Reserva</td>\n      <td>96</td>\n      <td>110.0</td>\n      <td>Northern Spain</td>\n      <td>Toro</td>\n      <td>NaN</td>\n      <td>Tinta de Toro</td>\n      <td>Bodega Carmen Rodríguez</td>\n    </tr>\n    <tr>\n      <th>...</th>\n      <td>...</td>\n      <td>...</td>\n      <td>...</td>\n      <td>...</td>\n      <td>...</td>\n      <td>...</td>\n      <td>...</td>\n      <td>...</td>\n      <td>...</td>\n      <td>...</td>\n    </tr>\n    <tr>\n      <th>150928</th>\n      <td>France</td>\n      <td>A perfect salmon shade, with scents of peaches...</td>\n      <td>Grand Brut Rosé</td>\n      <td>90</td>\n      <td>52.0</td>\n      <td>Champagne</td>\n      <td>Champagne</td>\n      <td>NaN</td>\n      <td>Champagne Blend</td>\n      <td>Gosset</td>\n    </tr>\n    <tr>\n      <th>150929</th>\n      <td>Italy</td>\n      <td>More Pinot Grigios should taste like this. A r...</td>\n      <td>NaN</td>\n      <td>90</td>\n      <td>15.0</td>\n      <td>Northeastern Italy</td>\n      <td>Alto Adige</td>\n      <td>NaN</td>\n      <td>Pinot Grigio</td>\n      <td>Alois Lageder</td>\n    </tr>\n  </tbody>\n</table>\n<p>150930 rows × 10 columns</p>\n</div>"
          },
          "metadata": {}
        }
      ]
    },
    {
      "cell_type": "code",
      "source": [
        "#q4.hint()\n",
        "#q4.solution()"
      ],
      "metadata": {
        "id": "GJ1ubiXfpSX5"
      },
      "execution_count": null,
      "outputs": []
    },
    {
      "cell_type": "markdown",
      "source": [
        "## 5.\n",
        "\n",
        "Run the cell below to create and display a DataFrame called `animals`:"
      ],
      "metadata": {
        "id": "PR0V1j8mpSX5"
      }
    },
    {
      "cell_type": "code",
      "source": [
        "animals = pd.DataFrame({'Cows': [12, 20], 'Goats': [22, 19]}, index=['Year 1', 'Year 2'])\n",
        "animals"
      ],
      "metadata": {
        "execution": {
          "iopub.status.busy": "2024-02-23T10:57:17.283085Z",
          "iopub.execute_input": "2024-02-23T10:57:17.283515Z",
          "iopub.status.idle": "2024-02-23T10:57:17.295546Z",
          "shell.execute_reply.started": "2024-02-23T10:57:17.283483Z",
          "shell.execute_reply": "2024-02-23T10:57:17.294597Z"
        },
        "trusted": true,
        "id": "J6ZAs98NpSX5",
        "outputId": "006acf21-e31f-43bd-edab-60496ab7ffef"
      },
      "execution_count": null,
      "outputs": [
        {
          "execution_count": 9,
          "output_type": "execute_result",
          "data": {
            "text/plain": "        Cows  Goats\nYear 1    12     22\nYear 2    20     19",
            "text/html": "<div>\n<style scoped>\n    .dataframe tbody tr th:only-of-type {\n        vertical-align: middle;\n    }\n\n    .dataframe tbody tr th {\n        vertical-align: top;\n    }\n\n    .dataframe thead th {\n        text-align: right;\n    }\n</style>\n<table border=\"1\" class=\"dataframe\">\n  <thead>\n    <tr style=\"text-align: right;\">\n      <th></th>\n      <th>Cows</th>\n      <th>Goats</th>\n    </tr>\n  </thead>\n  <tbody>\n    <tr>\n      <th>Year 1</th>\n      <td>12</td>\n      <td>22</td>\n    </tr>\n    <tr>\n      <th>Year 2</th>\n      <td>20</td>\n      <td>19</td>\n    </tr>\n  </tbody>\n</table>\n</div>"
          },
          "metadata": {}
        }
      ]
    },
    {
      "cell_type": "markdown",
      "source": [
        "In the cell below, write code to save this DataFrame to disk as a csv file with the name `cows_and_goats.csv`."
      ],
      "metadata": {
        "id": "9xmAjS0DpSX5"
      }
    },
    {
      "cell_type": "code",
      "source": [
        "# Your code goes here\n",
        "\n",
        "# Check your answer\n",
        "q5.check()"
      ],
      "metadata": {
        "id": "HDp_HdHmpSX5"
      },
      "execution_count": null,
      "outputs": []
    },
    {
      "cell_type": "code",
      "source": [
        "#q5.hint()\n",
        "#q5.solution()"
      ],
      "metadata": {
        "id": "Q13jgvckpSX5"
      },
      "execution_count": null,
      "outputs": []
    },
    {
      "cell_type": "markdown",
      "source": [
        "# Keep going\n",
        "\n",
        "Move on to learn about **[indexing, selecting and assigning](https://www.kaggle.com/residentmario/indexing-selecting-assigning)**."
      ],
      "metadata": {
        "id": "OuzS-U4TpSX5"
      }
    },
    {
      "cell_type": "markdown",
      "source": [
        "---\n",
        "\n",
        "\n",
        "\n",
        "\n",
        "*Have questions or comments? Visit the [course discussion forum](https://www.kaggle.com/learn/pandas/discussion) to chat with other learners.*"
      ],
      "metadata": {
        "id": "CTV0Q22epSX5"
      }
    }
  ]
}